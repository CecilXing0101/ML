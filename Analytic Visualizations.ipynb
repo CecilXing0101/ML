{
 "cells": [
  {
   "cell_type": "markdown",
   "metadata": {},
   "source": [
    "Titanic 生还者数据预测\n",
    "===========\n",
    "----------------------\n",
    "主要按照以下几个步骤进行：<br>\n",
    "1.导入数据<br>\n",
    "2.数据初步处理<br>\n",
    "3.数据相关性分析  \n",
    "4.特征工程<br>\n",
    "5.构建模型与数据训练<br>\n",
    "6.结果预测<br>\n",
    "\n",
    "---------------------------------------------------------------------"
   ]
  },
  {
   "cell_type": "markdown",
   "metadata": {},
   "source": [
    "### 1.导入数据\n",
    "---------------------------------------------------\n",
    "* 导入初步处理需要的包\n",
    "* 导入数据"
   ]
  },
  {
   "cell_type": "code",
   "execution_count": 3,
   "metadata": {},
   "outputs": [],
   "source": [
    "import pandas as pd\n",
    "import numpy as np\n",
    "import matplotlib.pyplot as plt\n",
    "%matplotlib inline\n",
    "import warnings\n",
    "warnings.filterwarnings('ignore')"
   ]
  },
  {
   "cell_type": "code",
   "execution_count": 4,
   "metadata": {},
   "outputs": [],
   "source": [
    "#train_df=pd.read_csv(r'E:\\Jupyter\\Titanic all original data\\train.csv')\n",
    "#test_df=pd.read_csv(r'E:\\Jupyter\\Titanic all original data\\test.csv')\n",
    "train_df=pd.read_csv('/Users/xingjiyuan1/test/Datasets/Titanic/train.csv')\n",
    "test_df=pd.read_csv('/Users/xingjiyuan1/test/Datasets/Titanic/test.csv')"
   ]
  },
  {
   "cell_type": "code",
   "execution_count": 5,
   "metadata": {
    "scrolled": true
   },
   "outputs": [
    {
     "name": "stdout",
     "output_type": "stream",
     "text": [
      "<class 'pandas.core.frame.DataFrame'>\n",
      "RangeIndex: 891 entries, 0 to 890\n",
      "Data columns (total 12 columns):\n",
      " #   Column       Non-Null Count  Dtype  \n",
      "---  ------       --------------  -----  \n",
      " 0   PassengerId  891 non-null    int64  \n",
      " 1   Survived     891 non-null    int64  \n",
      " 2   Pclass       891 non-null    int64  \n",
      " 3   Name         891 non-null    object \n",
      " 4   Sex          891 non-null    object \n",
      " 5   Age          714 non-null    float64\n",
      " 6   SibSp        891 non-null    int64  \n",
      " 7   Parch        891 non-null    int64  \n",
      " 8   Ticket       891 non-null    object \n",
      " 9   Fare         891 non-null    float64\n",
      " 10  Cabin        204 non-null    object \n",
      " 11  Embarked     889 non-null    object \n",
      "dtypes: float64(2), int64(5), object(5)\n",
      "memory usage: 83.7+ KB\n"
     ]
    }
   ],
   "source": [
    "train_df.info()"
   ]
  },
  {
   "cell_type": "markdown",
   "metadata": {},
   "source": [
    "首先通过分析训练数据，发现部分数据缺失（Age，Cabin，Embarked，fare）。  \n",
    "fare主要是在test数据中缺失，在train数据中是完整的。  \n",
    "而且，Cabin数据在test数据中缺失数量明显多于train中数据  \n",
    "因此，在进行特征工程前，有必要先进行数据的预处理工作"
   ]
  },
  {
   "cell_type": "markdown",
   "metadata": {},
   "source": [
    "接下来整合数据，补充数据"
   ]
  },
  {
   "cell_type": "markdown",
   "metadata": {},
   "source": [
    "### 2.数据初步处理\n",
    "---------------------------------------------------------\n",
    "* 对缺失的Age，Cabin，Embarked，Fare进行填充"
   ]
  },
  {
   "cell_type": "code",
   "execution_count": 6,
   "metadata": {
    "scrolled": true
   },
   "outputs": [
    {
     "data": {
      "text/html": [
       "<div>\n",
       "<style scoped>\n",
       "    .dataframe tbody tr th:only-of-type {\n",
       "        vertical-align: middle;\n",
       "    }\n",
       "\n",
       "    .dataframe tbody tr th {\n",
       "        vertical-align: top;\n",
       "    }\n",
       "\n",
       "    .dataframe thead th {\n",
       "        text-align: right;\n",
       "    }\n",
       "</style>\n",
       "<table border=\"1\" class=\"dataframe\">\n",
       "  <thead>\n",
       "    <tr style=\"text-align: right;\">\n",
       "      <th></th>\n",
       "      <th>PassengerId</th>\n",
       "      <th>Survived</th>\n",
       "      <th>Pclass</th>\n",
       "      <th>Name</th>\n",
       "      <th>Sex</th>\n",
       "      <th>Age</th>\n",
       "      <th>SibSp</th>\n",
       "      <th>Parch</th>\n",
       "      <th>Ticket</th>\n",
       "      <th>Fare</th>\n",
       "      <th>Cabin</th>\n",
       "      <th>Embarked</th>\n",
       "    </tr>\n",
       "  </thead>\n",
       "  <tbody>\n",
       "    <tr>\n",
       "      <th>0</th>\n",
       "      <td>1</td>\n",
       "      <td>0.0</td>\n",
       "      <td>3</td>\n",
       "      <td>Braund, Mr. Owen Harris</td>\n",
       "      <td>male</td>\n",
       "      <td>22.0</td>\n",
       "      <td>1</td>\n",
       "      <td>0</td>\n",
       "      <td>A/5 21171</td>\n",
       "      <td>7.2500</td>\n",
       "      <td>NaN</td>\n",
       "      <td>S</td>\n",
       "    </tr>\n",
       "    <tr>\n",
       "      <th>1</th>\n",
       "      <td>2</td>\n",
       "      <td>1.0</td>\n",
       "      <td>1</td>\n",
       "      <td>Cumings, Mrs. John Bradley (Florence Briggs Th...</td>\n",
       "      <td>female</td>\n",
       "      <td>38.0</td>\n",
       "      <td>1</td>\n",
       "      <td>0</td>\n",
       "      <td>PC 17599</td>\n",
       "      <td>71.2833</td>\n",
       "      <td>C85</td>\n",
       "      <td>C</td>\n",
       "    </tr>\n",
       "    <tr>\n",
       "      <th>2</th>\n",
       "      <td>3</td>\n",
       "      <td>1.0</td>\n",
       "      <td>3</td>\n",
       "      <td>Heikkinen, Miss. Laina</td>\n",
       "      <td>female</td>\n",
       "      <td>26.0</td>\n",
       "      <td>0</td>\n",
       "      <td>0</td>\n",
       "      <td>STON/O2. 3101282</td>\n",
       "      <td>7.9250</td>\n",
       "      <td>NaN</td>\n",
       "      <td>S</td>\n",
       "    </tr>\n",
       "    <tr>\n",
       "      <th>3</th>\n",
       "      <td>4</td>\n",
       "      <td>1.0</td>\n",
       "      <td>1</td>\n",
       "      <td>Futrelle, Mrs. Jacques Heath (Lily May Peel)</td>\n",
       "      <td>female</td>\n",
       "      <td>35.0</td>\n",
       "      <td>1</td>\n",
       "      <td>0</td>\n",
       "      <td>113803</td>\n",
       "      <td>53.1000</td>\n",
       "      <td>C123</td>\n",
       "      <td>S</td>\n",
       "    </tr>\n",
       "    <tr>\n",
       "      <th>4</th>\n",
       "      <td>5</td>\n",
       "      <td>0.0</td>\n",
       "      <td>3</td>\n",
       "      <td>Allen, Mr. William Henry</td>\n",
       "      <td>male</td>\n",
       "      <td>35.0</td>\n",
       "      <td>0</td>\n",
       "      <td>0</td>\n",
       "      <td>373450</td>\n",
       "      <td>8.0500</td>\n",
       "      <td>NaN</td>\n",
       "      <td>S</td>\n",
       "    </tr>\n",
       "  </tbody>\n",
       "</table>\n",
       "</div>"
      ],
      "text/plain": [
       "   PassengerId  Survived  Pclass  \\\n",
       "0            1       0.0       3   \n",
       "1            2       1.0       1   \n",
       "2            3       1.0       3   \n",
       "3            4       1.0       1   \n",
       "4            5       0.0       3   \n",
       "\n",
       "                                                Name     Sex   Age  SibSp  \\\n",
       "0                            Braund, Mr. Owen Harris    male  22.0      1   \n",
       "1  Cumings, Mrs. John Bradley (Florence Briggs Th...  female  38.0      1   \n",
       "2                             Heikkinen, Miss. Laina  female  26.0      0   \n",
       "3       Futrelle, Mrs. Jacques Heath (Lily May Peel)  female  35.0      1   \n",
       "4                           Allen, Mr. William Henry    male  35.0      0   \n",
       "\n",
       "   Parch            Ticket     Fare Cabin Embarked  \n",
       "0      0         A/5 21171   7.2500   NaN        S  \n",
       "1      0          PC 17599  71.2833   C85        C  \n",
       "2      0  STON/O2. 3101282   7.9250   NaN        S  \n",
       "3      0            113803  53.1000  C123        S  \n",
       "4      0            373450   8.0500   NaN        S  "
      ]
     },
     "execution_count": 6,
     "metadata": {},
     "output_type": "execute_result"
    }
   ],
   "source": [
    "'''\n",
    "训练集和测试集数据合并\n",
    "'''\n",
    "df=train_df.append(test_df)\n",
    "df.head()"
   ]
  },
  {
   "cell_type": "code",
   "execution_count": 7,
   "metadata": {},
   "outputs": [],
   "source": [
    "'''\n",
    "实际的名字对分析并无没有用，\n",
    "但是名字中间的称谓可以判断人物的身份及性别，所以提取出人物的称谓替代姓名\n",
    "'''\n",
    "df['Name']=df['Name'].map(lambda x:x.split(',')[1].split('.')[0].strip())"
   ]
  },
  {
   "cell_type": "code",
   "execution_count": 8,
   "metadata": {
    "scrolled": false
   },
   "outputs": [
    {
     "data": {
      "text/plain": [
       "array(['Mr', 'Mrs', 'Miss', 'Master', 'Don', 'Rev', 'Dr', 'Mme', 'Ms',\n",
       "       'Major', 'Lady', 'Sir', 'Mlle', 'Col', 'Capt', 'the Countess',\n",
       "       'Jonkheer', 'Dona'], dtype=object)"
      ]
     },
     "execution_count": 8,
     "metadata": {},
     "output_type": "execute_result"
    }
   ],
   "source": [
    "'''\n",
    "查看分类后的姓名信息\n",
    "'''\n",
    "titles=df['Name'].unique()\n",
    "titles"
   ]
  },
  {
   "cell_type": "code",
   "execution_count": 9,
   "metadata": {},
   "outputs": [
    {
     "name": "stdout",
     "output_type": "stream",
     "text": [
      "<class 'pandas.core.frame.DataFrame'>\n",
      "Int64Index: 1309 entries, 0 to 417\n",
      "Data columns (total 12 columns):\n",
      " #   Column       Non-Null Count  Dtype  \n",
      "---  ------       --------------  -----  \n",
      " 0   PassengerId  1309 non-null   int64  \n",
      " 1   Survived     891 non-null    float64\n",
      " 2   Pclass       1309 non-null   int64  \n",
      " 3   Name         1309 non-null   object \n",
      " 4   Sex          1309 non-null   object \n",
      " 5   Age          1046 non-null   float64\n",
      " 6   SibSp        1309 non-null   int64  \n",
      " 7   Parch        1309 non-null   int64  \n",
      " 8   Ticket       1309 non-null   object \n",
      " 9   Fare         1308 non-null   float64\n",
      " 10  Cabin        295 non-null    object \n",
      " 11  Embarked     1307 non-null   object \n",
      "dtypes: float64(3), int64(4), object(5)\n",
      "memory usage: 132.9+ KB\n"
     ]
    }
   ],
   "source": [
    "df.info()"
   ]
  },
  {
   "cell_type": "markdown",
   "metadata": {},
   "source": [
    "可见缺失的数据只有Age,Cabin,Embarked,Fare  \n",
    "下面先对缺失的数据进行填充"
   ]
  },
  {
   "cell_type": "markdown",
   "metadata": {},
   "source": [
    "##### 对年龄进行填充  \n",
    "显然同一种身份的人年龄近似的可能性更大,因此取各个身份年龄的平均值，并将其填充至空值"
   ]
  },
  {
   "cell_type": "code",
   "execution_count": 10,
   "metadata": {
    "scrolled": false
   },
   "outputs": [],
   "source": [
    "for title in titles:\n",
    "    median=df.Age[(df['Age'].isnull()==False)&(df['Name']==title)].median()\n",
    "    df.Age[df['Age'].isnull()==True]=median"
   ]
  },
  {
   "cell_type": "markdown",
   "metadata": {},
   "source": [
    "##### 对舱级进行填充\n",
    "舱位这个数据对于分析成活率的意义不大且数据缺失不多,所以对于缺失的数据直接填充U（Unknow）"
   ]
  },
  {
   "cell_type": "code",
   "execution_count": 11,
   "metadata": {
    "scrolled": true
   },
   "outputs": [],
   "source": [
    "df['Cabin'].fillna('U',inplace=True)"
   ]
  },
  {
   "cell_type": "markdown",
   "metadata": {},
   "source": [
    "##### 对登录位置（Embarked）进行填充\n",
    "由于登录位置数据缺失较少，因此以概率最大的标签进行填充"
   ]
  },
  {
   "cell_type": "code",
   "execution_count": 12,
   "metadata": {},
   "outputs": [
    {
     "data": {
      "text/plain": [
       "S    916\n",
       "C    270\n",
       "Q    123\n",
       "Name: Embarked, dtype: int64"
      ]
     },
     "execution_count": 12,
     "metadata": {},
     "output_type": "execute_result"
    }
   ],
   "source": [
    "df['Embarked'].fillna('S',inplace=True)\n",
    "df['Embarked'].value_counts()"
   ]
  },
  {
   "cell_type": "markdown",
   "metadata": {},
   "source": [
    "##### 对票价（Fare）进行填充\n",
    "显然票价信息基本完整，\n",
    "根据对数据观察的结果，可见票价与Pclass相关，显然等级高的票价高"
   ]
  },
  {
   "cell_type": "code",
   "execution_count": 13,
   "metadata": {},
   "outputs": [],
   "source": [
    "for pclass in [1,2,3]:\n",
    "    median=df.Fare[(df['Pclass']==pclass)&(df['Fare'].isnull()==False)].median()\n",
    "    df.Fare[df['Fare'].isnull()==True]=median"
   ]
  },
  {
   "cell_type": "markdown",
   "metadata": {},
   "source": [
    "### 3.数据相关性分析\n",
    "---------------------------------------------------\n",
    "* 可视化分析数据相关性"
   ]
  },
  {
   "cell_type": "code",
   "execution_count": 14,
   "metadata": {
    "scrolled": true
   },
   "outputs": [],
   "source": [
    "'''\n",
    "为了便于分析规律，将数据完整的df\n",
    "分成train_Df和test_Df两个文件\n",
    "'''\n",
    "train_Df=df[0:890]\n",
    "test_Df=df[891:]"
   ]
  },
  {
   "cell_type": "markdown",
   "metadata": {},
   "source": [
    "plcass与存活率的关系"
   ]
  },
  {
   "cell_type": "code",
   "execution_count": 15,
   "metadata": {},
   "outputs": [
    {
     "data": {
      "text/plain": [
       "<AxesSubplot:title={'center':'Pclass=3'}, ylabel='Survived'>"
      ]
     },
     "execution_count": 15,
     "metadata": {},
     "output_type": "execute_result"
    },
    {
     "data": {
      "image/png": "[encoded data removed]",
      "text/plain": [
       "<Figure size 720x216 with 3 Axes>"
      ]
     },
     "metadata": {},
     "output_type": "display_data"
    }
   ],
   "source": [
    "fig = plt.figure(figsize=(10,3))\n",
    "colors=['salmon', 'lightblue', 'y']\n",
    "colors1=['lightblue','salmon', 'y']\n",
    "fig.add_subplot(131)\n",
    "train_Df.Survived[train_Df['Pclass'] == 1].value_counts().plot(kind='pie',colors=colors1,title='Pclass=1')\n",
    "fig.add_subplot(132)\n",
    "train_Df.Survived[train_Df['Pclass'] == 2].value_counts().plot(kind='pie',colors=colors,startangle=180,title='Pclass=2')\n",
    "fig.add_subplot(133)\n",
    "train_Df.Survived[train_Df['Pclass'] == 3].value_counts().plot(kind='pie',colors=colors,startangle=180,title='Pclass=3')"
   ]
  },
  {
   "cell_type": "markdown",
   "metadata": {},
   "source": [
    "称谓与存活率的关系"
   ]
  },
  {
   "cell_type": "code",
   "execution_count": 16,
   "metadata": {},
   "outputs": [
    {
     "data": {
      "image/png": "[encoded data removed]",
      "text/plain": [
       "<Figure size 1080x432 with 17 Axes>"
      ]
     },
     "metadata": {},
     "output_type": "display_data"
    }
   ],
   "source": [
    "fig = plt.figure(figsize=(15,6))\n",
    "colors=['salmon', 'lightblue', 'y']\n",
    "colors1=['lightblue','salmon', 'y']\n",
    "i=1\n",
    "for title in train_Df['Name'].unique():\n",
    "    fig.add_subplot(3, 6, i)\n",
    "    plt.title('Title : {}'.format(title))\n",
    "    dat=train_Df.Survived[train_Df['Name'] == title].value_counts()\n",
    "    try:\n",
    "        if dat[0] and dat[0]>dat[1]:\n",
    "                col=colors\n",
    "                ang=0\n",
    "        else:\n",
    "                col=colors1\n",
    "                ang=180\n",
    "    except:\n",
    "        if 1 in dat:\n",
    "            col=colors1\n",
    "        else:\n",
    "           col=colors\n",
    "    train_Df.Survived[train_Df['Name'] == title].value_counts().plot(kind='pie',colors=col,startangle=ang)\n",
    "    i += 1"
   ]
  },
  {
   "cell_type": "markdown",
   "metadata": {},
   "source": [
    "性别与存活率的关系"
   ]
  },
  {
   "cell_type": "code",
   "execution_count": 14,
   "metadata": {},
   "outputs": [
    {
     "data": {
      "text/plain": [
       "<matplotlib.axes._subplots.AxesSubplot at 0x1e191853518>"
      ]
     },
     "execution_count": 14,
     "metadata": {},
     "output_type": "execute_result"
    },
    {
     "data": {
      "image/png": "[encoded data removed]",
      "text/plain": [
       "<matplotlib.figure.Figure at 0x1e190d8d710>"
      ]
     },
     "metadata": {},
     "output_type": "display_data"
    }
   ],
   "source": [
    "fig = plt.figure(figsize=(6,2.4))\n",
    "colors=['salmon', 'lightblue', 'y']\n",
    "colors1=['lightblue','salmon', 'y']\n",
    "fig.add_subplot(121)\n",
    "train_Df.Survived[train_Df['Sex'] == 'male'].value_counts().plot(kind='pie',colors=colors,title='male')\n",
    "fig.add_subplot(122)\n",
    "train_Df.Survived[train_Df['Sex'] == 'female'].value_counts().plot(kind='pie',colors=colors1,startangle=180,title='female')"
   ]
  },
  {
   "cell_type": "markdown",
   "metadata": {},
   "source": [
    "年龄与存活率关系"
   ]
  },
  {
   "cell_type": "code",
   "execution_count": 15,
   "metadata": {},
   "outputs": [
    {
     "data": {
      "text/plain": [
       "[(19.0, 25.0], (31.0, 40.5], (25.0, 29.0], (40.5, 80.0], (0.419, 19.0], (29.0, 31.0]]\n",
       "Categories (6, interval[float64]): [(0.419, 19.0] < (19.0, 25.0] < (25.0, 29.0] < (29.0, 31.0] < (31.0, 40.5] < (40.5, 80.0]]"
      ]
     },
     "execution_count": 15,
     "metadata": {},
     "output_type": "execute_result"
    }
   ],
   "source": [
    "'''\n",
    "年龄数据由于过于离散，因此这里使用qcut将其划分成5个区间段\n",
    "'''\n",
    "train_Df['AgeBin']=pd.qcut(train_Df['Age'],6)\n",
    "train_Df['AgeBin'].unique()"
   ]
  },
  {
   "cell_type": "code",
   "execution_count": 16,
   "metadata": {
    "scrolled": true
   },
   "outputs": [
    {
     "data": {
      "image/png": "[encoded data removed]",
      "text/plain": [
       "<matplotlib.figure.Figure at 0x1e1917b3e80>"
      ]
     },
     "metadata": {},
     "output_type": "display_data"
    }
   ],
   "source": [
    "fig = plt.figure(figsize=(10,4.8))\n",
    "colors=['salmon', 'lightblue', 'y']\n",
    "colors1=['lightblue','salmon', 'y']\n",
    "i=1\n",
    "for title in train_Df['AgeBin'].unique():\n",
    "    fig.add_subplot(2, 3, i)\n",
    "    plt.title('Age_interval : {}'.format(title))\n",
    "    dat=train_Df.Survived[train_Df['AgeBin'] == title].value_counts()\n",
    "    try:\n",
    "        if dat[0] and dat[0]>dat[1]:\n",
    "                col=colors\n",
    "                ang=0\n",
    "        else:\n",
    "                col=colors1\n",
    "                ang=180\n",
    "    except:\n",
    "        if 1 in dat:\n",
    "            col=colors1\n",
    "        else:\n",
    "           col=colors\n",
    "    train_Df.Survived[train_Df['AgeBin'] == title].value_counts().plot(kind='pie',colors=col,startangle=ang)\n",
    "    i += 1"
   ]
  },
  {
   "cell_type": "markdown",
   "metadata": {},
   "source": [
    "登录点与存活率关系"
   ]
  },
  {
   "cell_type": "code",
   "execution_count": 17,
   "metadata": {},
   "outputs": [
    {
     "data": {
      "text/plain": [
       "<matplotlib.axes._subplots.AxesSubplot at 0x1e191665438>"
      ]
     },
     "execution_count": 17,
     "metadata": {},
     "output_type": "execute_result"
    },
    {
     "data": {
      "image/png": "[encoded data removed]",
      "text/plain": [
       "<matplotlib.figure.Figure at 0x1e191763978>"
      ]
     },
     "metadata": {},
     "output_type": "display_data"
    }
   ],
   "source": [
    "'''\n",
    "出发地点：S=英国南安普顿Southampton\n",
    "途径地点1：C=法国 瑟堡市Cherbourg\n",
    "途径地点2：Q=爱尔兰 昆士敦Queenstown\n",
    "'''\n",
    "fig = plt.figure(figsize=(10,3))\n",
    "colors=['salmon', 'lightblue', 'y']\n",
    "colors1=['lightblue','salmon', 'y']\n",
    "fig.add_subplot(131)\n",
    "train_Df.Survived[train_Df['Embarked'] == 'S'].value_counts().plot(kind='pie',colors=colors,title='S')\n",
    "fig.add_subplot(132)\n",
    "train_Df.Survived[train_Df['Embarked'] == 'Q'].value_counts().plot(kind='pie',colors=colors,startangle=0,title='Q')\n",
    "fig.add_subplot(133)\n",
    "train_Df.Survived[train_Df['Embarked'] == 'C'].value_counts().plot(kind='pie',colors=colors1,startangle=180,title='C')"
   ]
  },
  {
   "cell_type": "markdown",
   "metadata": {},
   "source": [
    "### 4.特征工程\n",
    "---------------------------------------------------\n",
    "* 对字符串型数据进行分析，并将其数字化\n",
    "* 对数字过于离散的数据进行分析，并划分区间\n",
    "* 部分数据在查看过相关性后，决定是否保留"
   ]
  },
  {
   "cell_type": "markdown",
   "metadata": {},
   "source": [
    "对性别进行数字化"
   ]
  },
  {
   "cell_type": "code",
   "execution_count": 18,
   "metadata": {},
   "outputs": [
    {
     "data": {
      "text/html": [
       "<div>\n",
       "<style scoped>\n",
       "    .dataframe tbody tr th:only-of-type {\n",
       "        vertical-align: middle;\n",
       "    }\n",
       "\n",
       "    .dataframe tbody tr th {\n",
       "        vertical-align: top;\n",
       "    }\n",
       "\n",
       "    .dataframe thead th {\n",
       "        text-align: right;\n",
       "    }\n",
       "</style>\n",
       "<table border=\"1\" class=\"dataframe\">\n",
       "  <thead>\n",
       "    <tr style=\"text-align: right;\">\n",
       "      <th></th>\n",
       "      <th>Age</th>\n",
       "      <th>Cabin</th>\n",
       "      <th>Embarked</th>\n",
       "      <th>Fare</th>\n",
       "      <th>Name</th>\n",
       "      <th>Parch</th>\n",
       "      <th>PassengerId</th>\n",
       "      <th>Pclass</th>\n",
       "      <th>Sex</th>\n",
       "      <th>SibSp</th>\n",
       "      <th>Survived</th>\n",
       "      <th>Ticket</th>\n",
       "    </tr>\n",
       "  </thead>\n",
       "  <tbody>\n",
       "    <tr>\n",
       "      <th>0</th>\n",
       "      <td>22.0</td>\n",
       "      <td>U</td>\n",
       "      <td>S</td>\n",
       "      <td>7.2500</td>\n",
       "      <td>Mr</td>\n",
       "      <td>0</td>\n",
       "      <td>1</td>\n",
       "      <td>3</td>\n",
       "      <td>1</td>\n",
       "      <td>1</td>\n",
       "      <td>0.0</td>\n",
       "      <td>A/5 21171</td>\n",
       "    </tr>\n",
       "    <tr>\n",
       "      <th>1</th>\n",
       "      <td>38.0</td>\n",
       "      <td>C85</td>\n",
       "      <td>C</td>\n",
       "      <td>71.2833</td>\n",
       "      <td>Mrs</td>\n",
       "      <td>0</td>\n",
       "      <td>2</td>\n",
       "      <td>1</td>\n",
       "      <td>0</td>\n",
       "      <td>1</td>\n",
       "      <td>1.0</td>\n",
       "      <td>PC 17599</td>\n",
       "    </tr>\n",
       "    <tr>\n",
       "      <th>2</th>\n",
       "      <td>26.0</td>\n",
       "      <td>U</td>\n",
       "      <td>S</td>\n",
       "      <td>7.9250</td>\n",
       "      <td>Miss</td>\n",
       "      <td>0</td>\n",
       "      <td>3</td>\n",
       "      <td>3</td>\n",
       "      <td>0</td>\n",
       "      <td>0</td>\n",
       "      <td>1.0</td>\n",
       "      <td>STON/O2. 3101282</td>\n",
       "    </tr>\n",
       "    <tr>\n",
       "      <th>3</th>\n",
       "      <td>35.0</td>\n",
       "      <td>C123</td>\n",
       "      <td>S</td>\n",
       "      <td>53.1000</td>\n",
       "      <td>Mrs</td>\n",
       "      <td>0</td>\n",
       "      <td>4</td>\n",
       "      <td>1</td>\n",
       "      <td>0</td>\n",
       "      <td>1</td>\n",
       "      <td>1.0</td>\n",
       "      <td>113803</td>\n",
       "    </tr>\n",
       "    <tr>\n",
       "      <th>4</th>\n",
       "      <td>35.0</td>\n",
       "      <td>U</td>\n",
       "      <td>S</td>\n",
       "      <td>8.0500</td>\n",
       "      <td>Mr</td>\n",
       "      <td>0</td>\n",
       "      <td>5</td>\n",
       "      <td>3</td>\n",
       "      <td>1</td>\n",
       "      <td>0</td>\n",
       "      <td>0.0</td>\n",
       "      <td>373450</td>\n",
       "    </tr>\n",
       "  </tbody>\n",
       "</table>\n",
       "</div>"
      ],
      "text/plain": [
       "    Age Cabin Embarked     Fare  Name  Parch  PassengerId  Pclass  Sex  SibSp  \\\n",
       "0  22.0     U        S   7.2500    Mr      0            1       3    1      1   \n",
       "1  38.0   C85        C  71.2833   Mrs      0            2       1    0      1   \n",
       "2  26.0     U        S   7.9250  Miss      0            3       3    0      0   \n",
       "3  35.0  C123        S  53.1000   Mrs      0            4       1    0      1   \n",
       "4  35.0     U        S   8.0500    Mr      0            5       3    1      0   \n",
       "\n",
       "   Survived            Ticket  \n",
       "0       0.0         A/5 21171  \n",
       "1       1.0          PC 17599  \n",
       "2       1.0  STON/O2. 3101282  \n",
       "3       1.0            113803  \n",
       "4       0.0            373450  "
      ]
     },
     "execution_count": 18,
     "metadata": {},
     "output_type": "execute_result"
    }
   ],
   "source": [
    "'''\n",
    "将男性赋值为1，女性赋值为0，并查看赋值后的结果\n",
    "'''\n",
    "sex={'male':1,'female':0}\n",
    "df['Sex']=df['Sex'].map(sex)\n",
    "df.head()"
   ]
  },
  {
   "cell_type": "markdown",
   "metadata": {},
   "source": [
    "数字化登船港口"
   ]
  },
  {
   "cell_type": "code",
   "execution_count": 19,
   "metadata": {
    "collapsed": true
   },
   "outputs": [],
   "source": [
    "'''\n",
    "由于登船位置转换为数字后，最大为3，这明显高于性别的1\n",
    "因此在分类过程中，得到的分类器结果完全有可能认为登船位置有更高的权重\n",
    "而这显然是错误的，因此很有必要对数据进行标准化\n",
    "'''\n",
    "from sklearn.preprocessing import StandardScaler,LabelEncoder\n",
    "checkin={'S':1,'Q':2,'C':3}\n",
    "df['Embarked']=df['Embarked'].map(checkin)\n",
    "df['Embarked'] = StandardScaler().fit_transform(df['Embarked'].values.reshape(-1, 1))"
   ]
  },
  {
   "cell_type": "markdown",
   "metadata": {},
   "source": [
    "名称数据分类并数据化"
   ]
  },
  {
   "cell_type": "code",
   "execution_count": 20,
   "metadata": {
    "collapsed": true
   },
   "outputs": [],
   "source": [
    "'''\n",
    "先对称谓进行归类，\n",
    "然后进行数字化\n",
    "'''\n",
    "mapping = {'Don': 'Mr','Dona': 'Mrs','Mlle': 'Miss', 'Major': 'Officer', 'Col': 'Officer',\n",
    "           'Sir': 'Mr',  'Mme': 'Mrs', 'Jonkheer': 'nobility', 'Lady': 'Mrs', 'Capt': 'Mr',\n",
    "           'the Countess': 'nobility', 'Ms': 'Mrs', 'Rev':'Mr',\n",
    "           'Master':'Officer','Dr':'Officer'}\n",
    "df['Name'].replace(mapping, inplace=True)\n",
    "label={'Mr':1,'Miss':2,'Mrs':3,'Officer':4,'nobility':5}\n",
    "df['Name']=df['Name'].map(label)\n",
    "df['Name'] = StandardScaler().fit_transform(df['Name'].values.reshape(-1, 1))"
   ]
  },
  {
   "cell_type": "markdown",
   "metadata": {},
   "source": [
    "下面是数值型数据  \n",
    "年龄数据过于离散，因此将其按照区间进行划分"
   ]
  },
  {
   "cell_type": "code",
   "execution_count": 21,
   "metadata": {},
   "outputs": [
    {
     "data": {
      "text/plain": [
       "0    (20.128, 40.085]\n",
       "1    (20.128, 40.085]\n",
       "2    (20.128, 40.085]\n",
       "3    (20.128, 40.085]\n",
       "4    (20.128, 40.085]\n",
       "Name: AgeBin, dtype: category\n",
       "Categories (4, interval[float64]): [(0.0902, 20.128] < (20.128, 40.085] < (40.085, 60.043] < (60.043, 80.0]]"
      ]
     },
     "execution_count": 21,
     "metadata": {},
     "output_type": "execute_result"
    }
   ],
   "source": [
    "'''\n",
    "根据数据特征，利用cut进行如下分类\n",
    "0-20岁，少年\n",
    "20-40岁,青壮年\n",
    "40-60岁，中年\n",
    "60-80岁，老年\n",
    "但是，由于最后使用逻辑回归属性不可以为标签，所以结果用labelEncoder进行编码\n",
    "'''\n",
    "from sklearn.preprocessing import LabelEncoder\n",
    "df['AgeBin']=pd.cut(df['Age'],4)\n",
    "df['AgeBin'].head()"
   ]
  },
  {
   "cell_type": "code",
   "execution_count": 22,
   "metadata": {
    "collapsed": true
   },
   "outputs": [],
   "source": [
    "df['AgeBin']=LabelEncoder().fit_transform(df['AgeBin'])\n",
    "df['AgeBin']=StandardScaler().fit_transform(df['AgeBin'].values.reshape(-1, 1))"
   ]
  },
  {
   "cell_type": "markdown",
   "metadata": {},
   "source": [
    "对家庭规模进行整合"
   ]
  },
  {
   "cell_type": "code",
   "execution_count": 23,
   "metadata": {
    "collapsed": true
   },
   "outputs": [],
   "source": [
    "df['Family_size']=df['SibSp']+df['Parch']\n",
    "df['Family_size']=StandardScaler().fit_transform(df['Family_size'].values.reshape(-1, 1))"
   ]
  },
  {
   "cell_type": "markdown",
   "metadata": {},
   "source": [
    "船票费用过于离散，因此这里进行区间划分"
   ]
  },
  {
   "cell_type": "code",
   "execution_count": 24,
   "metadata": {
    "scrolled": true
   },
   "outputs": [
    {
     "data": {
      "text/plain": [
       "count    323.000000\n",
       "mean      87.508992\n",
       "std       80.447178\n",
       "min        0.000000\n",
       "25%       30.695800\n",
       "50%       60.000000\n",
       "75%      107.662500\n",
       "max      512.329200\n",
       "Name: Fare, dtype: float64"
      ]
     },
     "execution_count": 24,
     "metadata": {},
     "output_type": "execute_result"
    }
   ],
   "source": [
    "df.Fare[df['Pclass']==1].describe()"
   ]
  },
  {
   "cell_type": "code",
   "execution_count": 25,
   "metadata": {},
   "outputs": [
    {
     "data": {
      "text/plain": [
       "count    1309.000000\n",
       "mean       33.315880\n",
       "std        51.744144\n",
       "min         0.000000\n",
       "25%         7.895800\n",
       "50%        14.454200\n",
       "75%        31.275000\n",
       "max       512.329200\n",
       "Name: Fare, dtype: float64"
      ]
     },
     "execution_count": 25,
     "metadata": {},
     "output_type": "execute_result"
    }
   ],
   "source": [
    "df['Fare'].describe()"
   ]
  },
  {
   "cell_type": "code",
   "execution_count": 26,
   "metadata": {
    "scrolled": false
   },
   "outputs": [
    {
     "data": {
      "text/plain": [
       "[(-1, 102], (250, 515], (102, 250]]\n",
       "Categories (3, interval[int64]): [(-1, 102] < (102, 250] < (250, 515]]"
      ]
     },
     "execution_count": 26,
     "metadata": {},
     "output_type": "execute_result"
    }
   ],
   "source": [
    "'''\n",
    "按照船费情况，将人员的阶层进行划分\n",
    "'''\n",
    "bins=[-1,102,250,515]\n",
    "df['FareBin']=pd.cut(df['Fare'],bins)\n",
    "df['FareBin'].unique()"
   ]
  },
  {
   "cell_type": "code",
   "execution_count": 27,
   "metadata": {
    "collapsed": true
   },
   "outputs": [],
   "source": [
    "df['FareBin']=LabelEncoder().fit_transform(df['FareBin'])"
   ]
  },
  {
   "cell_type": "code",
   "execution_count": 28,
   "metadata": {
    "collapsed": true
   },
   "outputs": [],
   "source": [
    "df['FareBin']=StandardScaler().fit_transform(df['FareBin'].values.reshape(-1, 1))"
   ]
  },
  {
   "cell_type": "code",
   "execution_count": 29,
   "metadata": {},
   "outputs": [
    {
     "data": {
      "text/html": [
       "<div>\n",
       "<style scoped>\n",
       "    .dataframe tbody tr th:only-of-type {\n",
       "        vertical-align: middle;\n",
       "    }\n",
       "\n",
       "    .dataframe tbody tr th {\n",
       "        vertical-align: top;\n",
       "    }\n",
       "\n",
       "    .dataframe thead th {\n",
       "        text-align: right;\n",
       "    }\n",
       "</style>\n",
       "<table border=\"1\" class=\"dataframe\">\n",
       "  <thead>\n",
       "    <tr style=\"text-align: right;\">\n",
       "      <th></th>\n",
       "      <th>Age</th>\n",
       "      <th>Cabin</th>\n",
       "      <th>Embarked</th>\n",
       "      <th>Fare</th>\n",
       "      <th>Name</th>\n",
       "      <th>Parch</th>\n",
       "      <th>PassengerId</th>\n",
       "      <th>Pclass</th>\n",
       "      <th>Sex</th>\n",
       "      <th>SibSp</th>\n",
       "      <th>Survived</th>\n",
       "      <th>Ticket</th>\n",
       "      <th>AgeBin</th>\n",
       "      <th>Family_size</th>\n",
       "      <th>FareBin</th>\n",
       "    </tr>\n",
       "  </thead>\n",
       "  <tbody>\n",
       "    <tr>\n",
       "      <th>0</th>\n",
       "      <td>22.0</td>\n",
       "      <td>U</td>\n",
       "      <td>-0.622279</td>\n",
       "      <td>7.2500</td>\n",
       "      <td>-0.729691</td>\n",
       "      <td>0</td>\n",
       "      <td>1</td>\n",
       "      <td>3</td>\n",
       "      <td>1</td>\n",
       "      <td>1</td>\n",
       "      <td>0.0</td>\n",
       "      <td>A/5 21171</td>\n",
       "      <td>-0.013845</td>\n",
       "      <td>0.073352</td>\n",
       "      <td>-0.247512</td>\n",
       "    </tr>\n",
       "    <tr>\n",
       "      <th>1</th>\n",
       "      <td>38.0</td>\n",
       "      <td>C85</td>\n",
       "      <td>1.834926</td>\n",
       "      <td>71.2833</td>\n",
       "      <td>1.395261</td>\n",
       "      <td>0</td>\n",
       "      <td>2</td>\n",
       "      <td>1</td>\n",
       "      <td>0</td>\n",
       "      <td>1</td>\n",
       "      <td>1.0</td>\n",
       "      <td>PC 17599</td>\n",
       "      <td>-0.013845</td>\n",
       "      <td>0.073352</td>\n",
       "      <td>-0.247512</td>\n",
       "    </tr>\n",
       "    <tr>\n",
       "      <th>2</th>\n",
       "      <td>26.0</td>\n",
       "      <td>U</td>\n",
       "      <td>-0.622279</td>\n",
       "      <td>7.9250</td>\n",
       "      <td>0.332785</td>\n",
       "      <td>0</td>\n",
       "      <td>3</td>\n",
       "      <td>3</td>\n",
       "      <td>0</td>\n",
       "      <td>0</td>\n",
       "      <td>1.0</td>\n",
       "      <td>STON/O2. 3101282</td>\n",
       "      <td>-0.013845</td>\n",
       "      <td>-0.558346</td>\n",
       "      <td>-0.247512</td>\n",
       "    </tr>\n",
       "    <tr>\n",
       "      <th>3</th>\n",
       "      <td>35.0</td>\n",
       "      <td>C123</td>\n",
       "      <td>-0.622279</td>\n",
       "      <td>53.1000</td>\n",
       "      <td>1.395261</td>\n",
       "      <td>0</td>\n",
       "      <td>4</td>\n",
       "      <td>1</td>\n",
       "      <td>0</td>\n",
       "      <td>1</td>\n",
       "      <td>1.0</td>\n",
       "      <td>113803</td>\n",
       "      <td>-0.013845</td>\n",
       "      <td>0.073352</td>\n",
       "      <td>-0.247512</td>\n",
       "    </tr>\n",
       "    <tr>\n",
       "      <th>4</th>\n",
       "      <td>35.0</td>\n",
       "      <td>U</td>\n",
       "      <td>-0.622279</td>\n",
       "      <td>8.0500</td>\n",
       "      <td>-0.729691</td>\n",
       "      <td>0</td>\n",
       "      <td>5</td>\n",
       "      <td>3</td>\n",
       "      <td>1</td>\n",
       "      <td>0</td>\n",
       "      <td>0.0</td>\n",
       "      <td>373450</td>\n",
       "      <td>-0.013845</td>\n",
       "      <td>-0.558346</td>\n",
       "      <td>-0.247512</td>\n",
       "    </tr>\n",
       "  </tbody>\n",
       "</table>\n",
       "</div>"
      ],
      "text/plain": [
       "    Age Cabin  Embarked     Fare      Name  Parch  PassengerId  Pclass  Sex  \\\n",
       "0  22.0     U -0.622279   7.2500 -0.729691      0            1       3    1   \n",
       "1  38.0   C85  1.834926  71.2833  1.395261      0            2       1    0   \n",
       "2  26.0     U -0.622279   7.9250  0.332785      0            3       3    0   \n",
       "3  35.0  C123 -0.622279  53.1000  1.395261      0            4       1    0   \n",
       "4  35.0     U -0.622279   8.0500 -0.729691      0            5       3    1   \n",
       "\n",
       "   SibSp  Survived            Ticket    AgeBin  Family_size   FareBin  \n",
       "0      1       0.0         A/5 21171 -0.013845     0.073352 -0.247512  \n",
       "1      1       1.0          PC 17599 -0.013845     0.073352 -0.247512  \n",
       "2      0       1.0  STON/O2. 3101282 -0.013845    -0.558346 -0.247512  \n",
       "3      1       1.0            113803 -0.013845     0.073352 -0.247512  \n",
       "4      0       0.0            373450 -0.013845    -0.558346 -0.247512  "
      ]
     },
     "execution_count": 29,
     "metadata": {},
     "output_type": "execute_result"
    }
   ],
   "source": [
    "'''\n",
    "查看处理后的结果\n",
    "'''\n",
    "df.head()"
   ]
  },
  {
   "cell_type": "code",
   "execution_count": 30,
   "metadata": {
    "collapsed": true
   },
   "outputs": [],
   "source": [
    "df1=df.copy()"
   ]
  },
  {
   "cell_type": "code",
   "execution_count": 31,
   "metadata": {
    "collapsed": true,
    "scrolled": true
   },
   "outputs": [],
   "source": [
    "df1.drop(['Parch','SibSp','Age','Ticket','Cabin','PassengerId'],1,inplace=True)"
   ]
  },
  {
   "cell_type": "code",
   "execution_count": 32,
   "metadata": {
    "scrolled": true
   },
   "outputs": [
    {
     "data": {
      "text/plain": [
       "Survived       1.000000\n",
       "Name           0.468935\n",
       "Fare           0.257307\n",
       "FareBin        0.175803\n",
       "Embarked       0.167675\n",
       "Family_size    0.016639\n",
       "AgeBin        -0.066946\n",
       "Pclass        -0.338481\n",
       "Sex           -0.543351\n",
       "Name: Survived, dtype: float64"
      ]
     },
     "execution_count": 32,
     "metadata": {},
     "output_type": "execute_result"
    }
   ],
   "source": [
    "corr_Df=df1.corr()\n",
    "corr_Df['Survived'].sort_values(ascending =False)"
   ]
  },
  {
   "cell_type": "markdown",
   "metadata": {
    "collapsed": true
   },
   "source": [
    "### 5.构建模型与数据训练\n",
    "---------------------------------------------------\n",
    "* 先将train数据划分为训练集和测试集\n",
    "* 用logistics_regression进行分类并查看分类结果"
   ]
  },
  {
   "cell_type": "code",
   "execution_count": 33,
   "metadata": {},
   "outputs": [
    {
     "name": "stderr",
     "output_type": "stream",
     "text": [
      "D:\\Program\\Anaconda\\envs\\py3\\lib\\site-packages\\sklearn\\cross_validation.py:41: DeprecationWarning: This module was deprecated in version 0.18 in favor of the model_selection module into which all the refactored classes and functions are moved. Also note that the interface of the new CV iterators are different from that of this module. This module will be removed in 0.20.\n",
      "  \"This module will be removed in 0.20.\", DeprecationWarning)\n"
     ]
    }
   ],
   "source": [
    "'''\n",
    "导入建模模块\n",
    "'''\n",
    "from sklearn.cross_validation import train_test_split\n",
    "from sklearn.linear_model import LogisticRegression"
   ]
  },
  {
   "cell_type": "code",
   "execution_count": 34,
   "metadata": {
    "collapsed": true
   },
   "outputs": [],
   "source": [
    "Df=df1[0:891]                             #切片选出之前train_data\n",
    "pre_df=df1[891:].drop('Survived',axis=1)  #切片选出之前test_data,并删除Survived列\n",
    "Survived=Df.loc[:,'Survived']            #测试结果单独提取出来\n",
    "Df=Df.drop('Survived',axis=1)            #原数据中删除Survived数据"
   ]
  },
  {
   "cell_type": "code",
   "execution_count": 35,
   "metadata": {
    "collapsed": true
   },
   "outputs": [],
   "source": [
    "X_train, X_test, y_train, y_test = train_test_split(Df, Survived, test_size=0.2,random_state = 11)"
   ]
  },
  {
   "cell_type": "code",
   "execution_count": 36,
   "metadata": {
    "collapsed": true
   },
   "outputs": [],
   "source": [
    "model=LogisticRegression()"
   ]
  },
  {
   "cell_type": "code",
   "execution_count": 37,
   "metadata": {},
   "outputs": [
    {
     "data": {
      "text/plain": [
       "LogisticRegression(C=1.0, class_weight=None, dual=False, fit_intercept=True,\n",
       "          intercept_scaling=1, max_iter=100, multi_class='ovr', n_jobs=1,\n",
       "          penalty='l2', random_state=None, solver='liblinear', tol=0.0001,\n",
       "          verbose=0, warm_start=False)"
      ]
     },
     "execution_count": 37,
     "metadata": {},
     "output_type": "execute_result"
    }
   ],
   "source": [
    "model.fit(X_train,y_train)"
   ]
  },
  {
   "cell_type": "code",
   "execution_count": 38,
   "metadata": {
    "scrolled": false
   },
   "outputs": [
    {
     "data": {
      "text/plain": [
       "0.87709497206703912"
      ]
     },
     "execution_count": 38,
     "metadata": {},
     "output_type": "execute_result"
    }
   ],
   "source": [
    "model.score(X_test,y_test)"
   ]
  },
  {
   "cell_type": "markdown",
   "metadata": {
    "collapsed": true
   },
   "source": [
    "### 6.结果预测\n",
    "---------------------------------------------------\n",
    "* 基于当前的训练模型对test数据的结果进行预测"
   ]
  },
  {
   "cell_type": "code",
   "execution_count": 17,
   "metadata": {},
   "outputs": [
    {
     "ename": "NameError",
     "evalue": "name 'model' is not defined",
     "output_type": "error",
     "traceback": [
      "\u001b[0;31m---------------------------------------------------------------------------\u001b[0m",
      "\u001b[0;31mNameError\u001b[0m                                 Traceback (most recent call last)",
      "\u001b[0;32m<ipython-input-17-ba6fc054eb2a>\u001b[0m in \u001b[0;36m<module>\u001b[0;34m\u001b[0m\n\u001b[1;32m      4\u001b[0m \u001b[0m所以要对数据类型进行转换\u001b[0m\u001b[0;34m\u001b[0m\u001b[0;34m\u001b[0m\u001b[0m\n\u001b[1;32m      5\u001b[0m '''\n\u001b[0;32m----> 6\u001b[0;31m \u001b[0mpre_y\u001b[0m\u001b[0;34m=\u001b[0m\u001b[0mmodel\u001b[0m\u001b[0;34m.\u001b[0m\u001b[0mpredict\u001b[0m\u001b[0;34m(\u001b[0m\u001b[0mpre_df\u001b[0m\u001b[0;34m)\u001b[0m\u001b[0;34m\u001b[0m\u001b[0;34m\u001b[0m\u001b[0m\n\u001b[0m\u001b[1;32m      7\u001b[0m \u001b[0;31m#由于生成的是浮点型数据，而Kaggle需要的结果是整形，因此先对数据进行转换\u001b[0m\u001b[0;34m\u001b[0m\u001b[0;34m\u001b[0m\u001b[0;34m\u001b[0m\u001b[0m\n\u001b[1;32m      8\u001b[0m \u001b[0mpre_y\u001b[0m\u001b[0;34m=\u001b[0m\u001b[0mpre_y\u001b[0m\u001b[0;34m.\u001b[0m\u001b[0mastype\u001b[0m\u001b[0;34m(\u001b[0m\u001b[0mint\u001b[0m\u001b[0;34m)\u001b[0m\u001b[0;34m\u001b[0m\u001b[0;34m\u001b[0m\u001b[0m\n",
      "\u001b[0;31mNameError\u001b[0m: name 'model' is not defined"
     ]
    }
   ],
   "source": [
    "'''\n",
    "生成的预测值是浮点数（0.0,1,0）\n",
    "但是Kaggle要求提交的结果是整型（0,1）\n",
    "所以要对数据类型进行转换\n",
    "'''\n",
    "pre_y=model.predict(pre_df)\n",
    "#由于生成的是浮点型数据，而Kaggle需要的结果是整形，因此先对数据进行转换\n",
    "pre_y=pre_y.astype(int)\n",
    "#将乘客id与预测结果整合到一个Df中\n",
    "passenger_id = df.PassengerId[891:]\n",
    "predDf = pd.DataFrame( \n",
    "    { 'PassengerId': passenger_id , \n",
    "     'Survived': pre_y } )"
   ]
  },
  {
   "cell_type": "code",
   "execution_count": 40,
   "metadata": {
    "collapsed": true
   },
   "outputs": [],
   "source": [
    "#保存结果\n",
    "predDf.to_csv(r'E:\\Jupyter\\Titanic all original data\\titanic_pred.csv' , index = False )"
   ]
  }
 ],
 "metadata": {
  "kernelspec": {
   "display_name": "Python 3",
   "language": "python",
   "name": "python3"
  },
  "language_info": {
   "codemirror_mode": {
    "name": "ipython",
    "version": 3
   },
   "file_extension": ".py",
   "mimetype": "text/x-python",
   "name": "python",
   "nbconvert_exporter": "python",
   "pygments_lexer": "ipython3",
   "version": "3.8.5"
  }
 },
 "nbformat": 4,
 "nbformat_minor": 2
}
